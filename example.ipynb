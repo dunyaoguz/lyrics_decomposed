{
 "cells": [
  {
   "cell_type": "code",
   "execution_count": 1,
   "metadata": {},
   "outputs": [],
   "source": [
    "import pandas as pd\n",
    "import numpy as np\n",
    "import re\n",
    "import matplotlib.pyplot as plt\n",
    "import random\n",
    "from statistics import mode\n",
    "import re\n",
    "from nltk.tokenize import RegexpTokenizer\n",
    "from nltk.stem import WordNetLemmatizer\n",
    "from nltk.corpus import stopwords, wordnet\n",
    "from sklearn.feature_extraction.text import CountVectorizer\n",
    "from gensim.corpora import Dictionary\n",
    "from gensim import corpora, models\n",
    "from gensim.models.ldamodel import LdaModel\n",
    "%config InlineBackend.figure_format = 'retina'\n",
    "from sklearn.cluster import KMeans\n",
    "import random\n",
    "from sklearn.decomposition import PCA"
   ]
  },
  {
   "cell_type": "code",
   "execution_count": 22,
   "metadata": {
    "scrolled": false
   },
   "outputs": [],
   "source": [
    "df_1 = pd.read_csv('sentiment_data/eminem.csv', index_col=0)"
   ]
  },
  {
   "cell_type": "code",
   "execution_count": 23,
   "metadata": {},
   "outputs": [],
   "source": [
    "df_2 = pd.read_csv('sentiment_data/drake.csv', index_col=0)"
   ]
  },
  {
   "cell_type": "code",
   "execution_count": 24,
   "metadata": {},
   "outputs": [
    {
     "data": {
      "text/plain": [
       "-0.46078140096618364"
      ]
     },
     "execution_count": 24,
     "metadata": {},
     "output_type": "execute_result"
    }
   ],
   "source": [
    "df_1.polarity.mean()"
   ]
  },
  {
   "cell_type": "code",
   "execution_count": 25,
   "metadata": {},
   "outputs": [
    {
     "data": {
      "text/plain": [
       "0.22544664804469292"
      ]
     },
     "execution_count": 25,
     "metadata": {},
     "output_type": "execute_result"
    }
   ],
   "source": [
    "df_2.polarity.mean()"
   ]
  },
  {
   "cell_type": "code",
   "execution_count": 26,
   "metadata": {},
   "outputs": [
    {
     "data": {
      "text/html": [
       "<div>\n",
       "<style scoped>\n",
       "    .dataframe tbody tr th:only-of-type {\n",
       "        vertical-align: middle;\n",
       "    }\n",
       "\n",
       "    .dataframe tbody tr th {\n",
       "        vertical-align: top;\n",
       "    }\n",
       "\n",
       "    .dataframe thead th {\n",
       "        text-align: right;\n",
       "    }\n",
       "</style>\n",
       "<table border=\"1\" class=\"dataframe\">\n",
       "  <thead>\n",
       "    <tr style=\"text-align: right;\">\n",
       "      <th></th>\n",
       "      <th>Unnamed: 0.1</th>\n",
       "      <th>api_path</th>\n",
       "      <th>primary_artist</th>\n",
       "      <th>title</th>\n",
       "      <th>url</th>\n",
       "      <th>song_endpoint</th>\n",
       "      <th>album</th>\n",
       "      <th>release_date</th>\n",
       "      <th>lyrics</th>\n",
       "      <th>anger</th>\n",
       "      <th>anticipation</th>\n",
       "      <th>disgust</th>\n",
       "      <th>fear</th>\n",
       "      <th>joy</th>\n",
       "      <th>negative</th>\n",
       "      <th>positive</th>\n",
       "      <th>sadness</th>\n",
       "      <th>surprise</th>\n",
       "      <th>trust</th>\n",
       "      <th>polarity</th>\n",
       "    </tr>\n",
       "  </thead>\n",
       "  <tbody>\n",
       "    <tr>\n",
       "      <th>0</th>\n",
       "      <td>0</td>\n",
       "      <td>/songs/4182181</td>\n",
       "      <td>Eminem</td>\n",
       "      <td>12 Days of Diss-Mas</td>\n",
       "      <td>https://genius.com/Eminem-12-days-of-diss-mas-...</td>\n",
       "      <td>http://api.genius.com/songs/4182181</td>\n",
       "      <td>None</td>\n",
       "      <td>2018-12-25</td>\n",
       "      <td>1. \"Hit 'Em Up\" by 2Pac (Ft. Outlawz) 2. \"Diss...</td>\n",
       "      <td>3</td>\n",
       "      <td>3</td>\n",
       "      <td>2</td>\n",
       "      <td>3</td>\n",
       "      <td>1</td>\n",
       "      <td>4</td>\n",
       "      <td>6</td>\n",
       "      <td>1</td>\n",
       "      <td>2</td>\n",
       "      <td>4</td>\n",
       "      <td>-0.9360</td>\n",
       "    </tr>\n",
       "    <tr>\n",
       "      <th>1</th>\n",
       "      <td>1</td>\n",
       "      <td>/songs/3043874</td>\n",
       "      <td>Eminem</td>\n",
       "      <td>1996 Underground Freestyle</td>\n",
       "      <td>https://genius.com/Eminem-1996-underground-fre...</td>\n",
       "      <td>http://api.genius.com/songs/3043874</td>\n",
       "      <td>None</td>\n",
       "      <td>1996-02-17</td>\n",
       "      <td>Any rapper saying those kind of rhymes In this...</td>\n",
       "      <td>2</td>\n",
       "      <td>4</td>\n",
       "      <td>0</td>\n",
       "      <td>2</td>\n",
       "      <td>1</td>\n",
       "      <td>12</td>\n",
       "      <td>6</td>\n",
       "      <td>3</td>\n",
       "      <td>2</td>\n",
       "      <td>4</td>\n",
       "      <td>-0.4599</td>\n",
       "    </tr>\n",
       "    <tr>\n",
       "      <th>2</th>\n",
       "      <td>2</td>\n",
       "      <td>/songs/202554</td>\n",
       "      <td>Eminem</td>\n",
       "      <td>1997 Rap Olympics</td>\n",
       "      <td>https://genius.com/Eminem-1997-rap-olympics-ly...</td>\n",
       "      <td>http://api.genius.com/songs/202554</td>\n",
       "      <td>None</td>\n",
       "      <td>2018-12-25</td>\n",
       "      <td>I'ma tell you this for your own benefit Your s...</td>\n",
       "      <td>34</td>\n",
       "      <td>7</td>\n",
       "      <td>26</td>\n",
       "      <td>20</td>\n",
       "      <td>6</td>\n",
       "      <td>51</td>\n",
       "      <td>21</td>\n",
       "      <td>16</td>\n",
       "      <td>6</td>\n",
       "      <td>22</td>\n",
       "      <td>-0.9983</td>\n",
       "    </tr>\n",
       "    <tr>\n",
       "      <th>3</th>\n",
       "      <td>3</td>\n",
       "      <td>/songs/695536</td>\n",
       "      <td>Eminem</td>\n",
       "      <td>1999</td>\n",
       "      <td>https://genius.com/Eminem-1999-lyrics</td>\n",
       "      <td>http://api.genius.com/songs/695536</td>\n",
       "      <td>None</td>\n",
       "      <td>2009-07-17</td>\n",
       "      <td>Hi kids, do you like Kim's bullshit? (No!) Wan...</td>\n",
       "      <td>19</td>\n",
       "      <td>4</td>\n",
       "      <td>19</td>\n",
       "      <td>19</td>\n",
       "      <td>7</td>\n",
       "      <td>31</td>\n",
       "      <td>14</td>\n",
       "      <td>19</td>\n",
       "      <td>7</td>\n",
       "      <td>7</td>\n",
       "      <td>-0.9969</td>\n",
       "    </tr>\n",
       "    <tr>\n",
       "      <th>4</th>\n",
       "      <td>4</td>\n",
       "      <td>/songs/2463747</td>\n",
       "      <td>Eminem</td>\n",
       "      <td>2004 Tim Westwood Freestyle</td>\n",
       "      <td>https://genius.com/Eminem-2004-tim-westwood-fr...</td>\n",
       "      <td>http://api.genius.com/songs/2463747</td>\n",
       "      <td>None</td>\n",
       "      <td>2018-12-25</td>\n",
       "      <td>I boss how I live Fuck 'em hoe God meant me To...</td>\n",
       "      <td>139</td>\n",
       "      <td>87</td>\n",
       "      <td>107</td>\n",
       "      <td>120</td>\n",
       "      <td>69</td>\n",
       "      <td>236</td>\n",
       "      <td>179</td>\n",
       "      <td>93</td>\n",
       "      <td>58</td>\n",
       "      <td>134</td>\n",
       "      <td>-0.9989</td>\n",
       "    </tr>\n",
       "  </tbody>\n",
       "</table>\n",
       "</div>"
      ],
      "text/plain": [
       "   Unnamed: 0.1        api_path primary_artist                        title  \\\n",
       "0             0  /songs/4182181         Eminem          12 Days of Diss-Mas   \n",
       "1             1  /songs/3043874         Eminem   1996 Underground Freestyle   \n",
       "2             2   /songs/202554         Eminem            1997 Rap Olympics   \n",
       "3             3   /songs/695536         Eminem                         1999   \n",
       "4             4  /songs/2463747         Eminem  2004 Tim Westwood Freestyle   \n",
       "\n",
       "                                                 url  \\\n",
       "0  https://genius.com/Eminem-12-days-of-diss-mas-...   \n",
       "1  https://genius.com/Eminem-1996-underground-fre...   \n",
       "2  https://genius.com/Eminem-1997-rap-olympics-ly...   \n",
       "3              https://genius.com/Eminem-1999-lyrics   \n",
       "4  https://genius.com/Eminem-2004-tim-westwood-fr...   \n",
       "\n",
       "                         song_endpoint album release_date  \\\n",
       "0  http://api.genius.com/songs/4182181  None   2018-12-25   \n",
       "1  http://api.genius.com/songs/3043874  None   1996-02-17   \n",
       "2   http://api.genius.com/songs/202554  None   2018-12-25   \n",
       "3   http://api.genius.com/songs/695536  None   2009-07-17   \n",
       "4  http://api.genius.com/songs/2463747  None   2018-12-25   \n",
       "\n",
       "                                              lyrics  anger  anticipation  \\\n",
       "0  1. \"Hit 'Em Up\" by 2Pac (Ft. Outlawz) 2. \"Diss...      3             3   \n",
       "1  Any rapper saying those kind of rhymes In this...      2             4   \n",
       "2  I'ma tell you this for your own benefit Your s...     34             7   \n",
       "3  Hi kids, do you like Kim's bullshit? (No!) Wan...     19             4   \n",
       "4  I boss how I live Fuck 'em hoe God meant me To...    139            87   \n",
       "\n",
       "   disgust  fear  joy  negative  positive  sadness  surprise  trust  polarity  \n",
       "0        2     3    1         4         6        1         2      4   -0.9360  \n",
       "1        0     2    1        12         6        3         2      4   -0.4599  \n",
       "2       26    20    6        51        21       16         6     22   -0.9983  \n",
       "3       19    19    7        31        14       19         7      7   -0.9969  \n",
       "4      107   120   69       236       179       93        58    134   -0.9989  "
      ]
     },
     "execution_count": 26,
     "metadata": {},
     "output_type": "execute_result"
    }
   ],
   "source": [
    "df_1.head()"
   ]
  },
  {
   "cell_type": "code",
   "execution_count": 27,
   "metadata": {},
   "outputs": [
    {
     "name": "stdout",
     "output_type": "stream",
     "text": [
      "19.78743961352657\n",
      "10.667597765363128\n"
     ]
    }
   ],
   "source": [
    "print(df_1.anger.mean())\n",
    "print(df_2.anger.mean())"
   ]
  },
  {
   "cell_type": "code",
   "execution_count": 28,
   "metadata": {},
   "outputs": [
    {
     "name": "stdout",
     "output_type": "stream",
     "text": [
      "12.978260869565217\n",
      "12.978260869565217\n"
     ]
    }
   ],
   "source": [
    "print(df_1.anticipation.mean())\n",
    "print(df_2.anticipation.mean())"
   ]
  },
  {
   "cell_type": "code",
   "execution_count": 29,
   "metadata": {},
   "outputs": [
    {
     "name": "stdout",
     "output_type": "stream",
     "text": [
      "19.243961352657006\n",
      "7.650837988826815\n"
     ]
    }
   ],
   "source": [
    "print(df_1.fear.mean())\n",
    "print(df_2.fear.mean())"
   ]
  },
  {
   "cell_type": "code",
   "execution_count": null,
   "metadata": {},
   "outputs": [],
   "source": []
  }
 ],
 "metadata": {
  "kernelspec": {
   "display_name": "Python 3",
   "language": "python",
   "name": "python3"
  },
  "language_info": {
   "codemirror_mode": {
    "name": "ipython",
    "version": 3
   },
   "file_extension": ".py",
   "mimetype": "text/x-python",
   "name": "python",
   "nbconvert_exporter": "python",
   "pygments_lexer": "ipython3",
   "version": "3.6.8"
  }
 },
 "nbformat": 4,
 "nbformat_minor": 2
}
